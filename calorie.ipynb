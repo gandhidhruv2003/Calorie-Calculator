{
 "cells": [
  {
   "cell_type": "code",
   "execution_count": 123,
   "id": "9f36a023",
   "metadata": {},
   "outputs": [],
   "source": [
    "import pandas as pd\n",
    "import numpy as np\n",
    "import matplotlib.pyplot as plt\n",
    "import pickle\n",
    "\n",
    "from sklearn.preprocessing import LabelEncoder\n",
    "from sklearn.model_selection import train_test_split\n",
    "from sklearn.linear_model import LinearRegression\n",
    "from sklearn.tree import DecisionTreeRegressor\n",
    "from sklearn.ensemble import RandomForestRegressor, GradientBoostingRegressor\n",
    "from sklearn.metrics import mean_squared_error, mean_absolute_error, mean_squared_error, r2_score, confusion_matrix"
   ]
  },
  {
   "cell_type": "code",
   "execution_count": 124,
   "id": "6fd308c7",
   "metadata": {},
   "outputs": [],
   "source": [
    "df = pd.read_excel(\"CalorificValue.xlsx\")"
   ]
  },
  {
   "cell_type": "code",
   "execution_count": 125,
   "id": "ce3278c2",
   "metadata": {},
   "outputs": [
    {
     "data": {
      "text/html": [
       "<div>\n",
       "<style scoped>\n",
       "    .dataframe tbody tr th:only-of-type {\n",
       "        vertical-align: middle;\n",
       "    }\n",
       "\n",
       "    .dataframe tbody tr th {\n",
       "        vertical-align: top;\n",
       "    }\n",
       "\n",
       "    .dataframe thead th {\n",
       "        text-align: right;\n",
       "    }\n",
       "</style>\n",
       "<table border=\"1\" class=\"dataframe\">\n",
       "  <thead>\n",
       "    <tr style=\"text-align: right;\">\n",
       "      <th></th>\n",
       "      <th>INGREDIENT</th>\n",
       "      <th>Gram</th>\n",
       "      <th>Cal/100gms</th>\n",
       "      <th>Cal/gm</th>\n",
       "      <th>Quantity Added (in Grams)</th>\n",
       "      <th>Calories</th>\n",
       "      <th>Unnamed: 6</th>\n",
       "      <th>Calories Calculated Value</th>\n",
       "    </tr>\n",
       "  </thead>\n",
       "  <tbody>\n",
       "    <tr>\n",
       "      <th>0</th>\n",
       "      <td>Almonds</td>\n",
       "      <td>100</td>\n",
       "      <td>609.2</td>\n",
       "      <td>6.092</td>\n",
       "      <td>NaN</td>\n",
       "      <td>0</td>\n",
       "      <td>NaN</td>\n",
       "      <td>0.0</td>\n",
       "    </tr>\n",
       "    <tr>\n",
       "      <th>1</th>\n",
       "      <td>Amaranth leaves</td>\n",
       "      <td>100</td>\n",
       "      <td>30.5</td>\n",
       "      <td>0.305</td>\n",
       "      <td>NaN</td>\n",
       "      <td>0</td>\n",
       "      <td>NaN</td>\n",
       "      <td>NaN</td>\n",
       "    </tr>\n",
       "    <tr>\n",
       "      <th>2</th>\n",
       "      <td>Amaranth seed, Black</td>\n",
       "      <td>100</td>\n",
       "      <td>356.1</td>\n",
       "      <td>3.561</td>\n",
       "      <td>NaN</td>\n",
       "      <td>0</td>\n",
       "      <td>NaN</td>\n",
       "      <td>NaN</td>\n",
       "    </tr>\n",
       "    <tr>\n",
       "      <th>3</th>\n",
       "      <td>Anise seeds</td>\n",
       "      <td>100</td>\n",
       "      <td>153.3</td>\n",
       "      <td>1.533</td>\n",
       "      <td>NaN</td>\n",
       "      <td>0</td>\n",
       "      <td>NaN</td>\n",
       "      <td>NaN</td>\n",
       "    </tr>\n",
       "    <tr>\n",
       "      <th>4</th>\n",
       "      <td>Apple</td>\n",
       "      <td>100</td>\n",
       "      <td>62.3</td>\n",
       "      <td>0.623</td>\n",
       "      <td>NaN</td>\n",
       "      <td>0</td>\n",
       "      <td>NaN</td>\n",
       "      <td>NaN</td>\n",
       "    </tr>\n",
       "    <tr>\n",
       "      <th>...</th>\n",
       "      <td>...</td>\n",
       "      <td>...</td>\n",
       "      <td>...</td>\n",
       "      <td>...</td>\n",
       "      <td>...</td>\n",
       "      <td>...</td>\n",
       "      <td>...</td>\n",
       "      <td>...</td>\n",
       "    </tr>\n",
       "    <tr>\n",
       "      <th>175</th>\n",
       "      <td>Wheat vermicelli</td>\n",
       "      <td>100</td>\n",
       "      <td>332.6</td>\n",
       "      <td>3.326</td>\n",
       "      <td>NaN</td>\n",
       "      <td>0</td>\n",
       "      <td>NaN</td>\n",
       "      <td>NaN</td>\n",
       "    </tr>\n",
       "    <tr>\n",
       "      <th>176</th>\n",
       "      <td>Wheat whole</td>\n",
       "      <td>100</td>\n",
       "      <td>321.9</td>\n",
       "      <td>3.219</td>\n",
       "      <td>NaN</td>\n",
       "      <td>0</td>\n",
       "      <td>NaN</td>\n",
       "      <td>NaN</td>\n",
       "    </tr>\n",
       "    <tr>\n",
       "      <th>177</th>\n",
       "      <td>Wood apple</td>\n",
       "      <td>100</td>\n",
       "      <td>78.1</td>\n",
       "      <td>0.781</td>\n",
       "      <td>NaN</td>\n",
       "      <td>0</td>\n",
       "      <td>NaN</td>\n",
       "      <td>NaN</td>\n",
       "    </tr>\n",
       "    <tr>\n",
       "      <th>178</th>\n",
       "      <td>Yam</td>\n",
       "      <td>100</td>\n",
       "      <td>84.3</td>\n",
       "      <td>0.843</td>\n",
       "      <td>NaN</td>\n",
       "      <td>0</td>\n",
       "      <td>NaN</td>\n",
       "      <td>NaN</td>\n",
       "    </tr>\n",
       "    <tr>\n",
       "      <th>179</th>\n",
       "      <td>Zucchini, green</td>\n",
       "      <td>100</td>\n",
       "      <td>20.0</td>\n",
       "      <td>0.200</td>\n",
       "      <td>NaN</td>\n",
       "      <td>0</td>\n",
       "      <td>NaN</td>\n",
       "      <td>NaN</td>\n",
       "    </tr>\n",
       "  </tbody>\n",
       "</table>\n",
       "<p>180 rows × 8 columns</p>\n",
       "</div>"
      ],
      "text/plain": [
       "               INGREDIENT  Gram  Cal/100gms  Cal/gm  \\\n",
       "0                 Almonds   100       609.2   6.092   \n",
       "1         Amaranth leaves   100        30.5   0.305   \n",
       "2    Amaranth seed, Black   100       356.1   3.561   \n",
       "3             Anise seeds   100       153.3   1.533   \n",
       "4                   Apple   100        62.3   0.623   \n",
       "..                    ...   ...         ...     ...   \n",
       "175      Wheat vermicelli   100       332.6   3.326   \n",
       "176           Wheat whole   100       321.9   3.219   \n",
       "177            Wood apple   100        78.1   0.781   \n",
       "178                   Yam   100        84.3   0.843   \n",
       "179       Zucchini, green   100        20.0   0.200   \n",
       "\n",
       "     Quantity Added (in Grams)  Calories  Unnamed: 6  \\\n",
       "0                          NaN         0         NaN   \n",
       "1                          NaN         0         NaN   \n",
       "2                          NaN         0         NaN   \n",
       "3                          NaN         0         NaN   \n",
       "4                          NaN         0         NaN   \n",
       "..                         ...       ...         ...   \n",
       "175                        NaN         0         NaN   \n",
       "176                        NaN         0         NaN   \n",
       "177                        NaN         0         NaN   \n",
       "178                        NaN         0         NaN   \n",
       "179                        NaN         0         NaN   \n",
       "\n",
       "     Calories Calculated Value  \n",
       "0                          0.0  \n",
       "1                          NaN  \n",
       "2                          NaN  \n",
       "3                          NaN  \n",
       "4                          NaN  \n",
       "..                         ...  \n",
       "175                        NaN  \n",
       "176                        NaN  \n",
       "177                        NaN  \n",
       "178                        NaN  \n",
       "179                        NaN  \n",
       "\n",
       "[180 rows x 8 columns]"
      ]
     },
     "execution_count": 125,
     "metadata": {},
     "output_type": "execute_result"
    }
   ],
   "source": [
    "df"
   ]
  },
  {
   "cell_type": "code",
   "execution_count": 126,
   "id": "38d7e767",
   "metadata": {},
   "outputs": [],
   "source": [
    "df = df.drop([\"Quantity Added (in Grams)\", \"Calories\", \"Unnamed: 6\", \"Calories Calculated Value\"], axis=1)"
   ]
  },
  {
   "cell_type": "code",
   "execution_count": 127,
   "id": "7f963716",
   "metadata": {},
   "outputs": [
    {
     "data": {
      "text/html": [
       "<div>\n",
       "<style scoped>\n",
       "    .dataframe tbody tr th:only-of-type {\n",
       "        vertical-align: middle;\n",
       "    }\n",
       "\n",
       "    .dataframe tbody tr th {\n",
       "        vertical-align: top;\n",
       "    }\n",
       "\n",
       "    .dataframe thead th {\n",
       "        text-align: right;\n",
       "    }\n",
       "</style>\n",
       "<table border=\"1\" class=\"dataframe\">\n",
       "  <thead>\n",
       "    <tr style=\"text-align: right;\">\n",
       "      <th></th>\n",
       "      <th>INGREDIENT</th>\n",
       "      <th>Gram</th>\n",
       "      <th>Cal/100gms</th>\n",
       "      <th>Cal/gm</th>\n",
       "    </tr>\n",
       "  </thead>\n",
       "  <tbody>\n",
       "    <tr>\n",
       "      <th>0</th>\n",
       "      <td>Almonds</td>\n",
       "      <td>100</td>\n",
       "      <td>609.2</td>\n",
       "      <td>6.092</td>\n",
       "    </tr>\n",
       "    <tr>\n",
       "      <th>1</th>\n",
       "      <td>Amaranth leaves</td>\n",
       "      <td>100</td>\n",
       "      <td>30.5</td>\n",
       "      <td>0.305</td>\n",
       "    </tr>\n",
       "    <tr>\n",
       "      <th>2</th>\n",
       "      <td>Amaranth seed, Black</td>\n",
       "      <td>100</td>\n",
       "      <td>356.1</td>\n",
       "      <td>3.561</td>\n",
       "    </tr>\n",
       "    <tr>\n",
       "      <th>3</th>\n",
       "      <td>Anise seeds</td>\n",
       "      <td>100</td>\n",
       "      <td>153.3</td>\n",
       "      <td>1.533</td>\n",
       "    </tr>\n",
       "    <tr>\n",
       "      <th>4</th>\n",
       "      <td>Apple</td>\n",
       "      <td>100</td>\n",
       "      <td>62.3</td>\n",
       "      <td>0.623</td>\n",
       "    </tr>\n",
       "    <tr>\n",
       "      <th>...</th>\n",
       "      <td>...</td>\n",
       "      <td>...</td>\n",
       "      <td>...</td>\n",
       "      <td>...</td>\n",
       "    </tr>\n",
       "    <tr>\n",
       "      <th>175</th>\n",
       "      <td>Wheat vermicelli</td>\n",
       "      <td>100</td>\n",
       "      <td>332.6</td>\n",
       "      <td>3.326</td>\n",
       "    </tr>\n",
       "    <tr>\n",
       "      <th>176</th>\n",
       "      <td>Wheat whole</td>\n",
       "      <td>100</td>\n",
       "      <td>321.9</td>\n",
       "      <td>3.219</td>\n",
       "    </tr>\n",
       "    <tr>\n",
       "      <th>177</th>\n",
       "      <td>Wood apple</td>\n",
       "      <td>100</td>\n",
       "      <td>78.1</td>\n",
       "      <td>0.781</td>\n",
       "    </tr>\n",
       "    <tr>\n",
       "      <th>178</th>\n",
       "      <td>Yam</td>\n",
       "      <td>100</td>\n",
       "      <td>84.3</td>\n",
       "      <td>0.843</td>\n",
       "    </tr>\n",
       "    <tr>\n",
       "      <th>179</th>\n",
       "      <td>Zucchini, green</td>\n",
       "      <td>100</td>\n",
       "      <td>20.0</td>\n",
       "      <td>0.200</td>\n",
       "    </tr>\n",
       "  </tbody>\n",
       "</table>\n",
       "<p>180 rows × 4 columns</p>\n",
       "</div>"
      ],
      "text/plain": [
       "               INGREDIENT  Gram  Cal/100gms  Cal/gm\n",
       "0                 Almonds   100       609.2   6.092\n",
       "1         Amaranth leaves   100        30.5   0.305\n",
       "2    Amaranth seed, Black   100       356.1   3.561\n",
       "3             Anise seeds   100       153.3   1.533\n",
       "4                   Apple   100        62.3   0.623\n",
       "..                    ...   ...         ...     ...\n",
       "175      Wheat vermicelli   100       332.6   3.326\n",
       "176           Wheat whole   100       321.9   3.219\n",
       "177            Wood apple   100        78.1   0.781\n",
       "178                   Yam   100        84.3   0.843\n",
       "179       Zucchini, green   100        20.0   0.200\n",
       "\n",
       "[180 rows x 4 columns]"
      ]
     },
     "execution_count": 127,
     "metadata": {},
     "output_type": "execute_result"
    }
   ],
   "source": [
    "df"
   ]
  },
  {
   "cell_type": "code",
   "execution_count": 128,
   "id": "50fec9f9",
   "metadata": {},
   "outputs": [
    {
     "data": {
      "text/html": [
       "<div>\n",
       "<style scoped>\n",
       "    .dataframe tbody tr th:only-of-type {\n",
       "        vertical-align: middle;\n",
       "    }\n",
       "\n",
       "    .dataframe tbody tr th {\n",
       "        vertical-align: top;\n",
       "    }\n",
       "\n",
       "    .dataframe thead th {\n",
       "        text-align: right;\n",
       "    }\n",
       "</style>\n",
       "<table border=\"1\" class=\"dataframe\">\n",
       "  <thead>\n",
       "    <tr style=\"text-align: right;\">\n",
       "      <th></th>\n",
       "      <th>Gram</th>\n",
       "      <th>Cal/100gms</th>\n",
       "      <th>Cal/gm</th>\n",
       "    </tr>\n",
       "  </thead>\n",
       "  <tbody>\n",
       "    <tr>\n",
       "      <th>count</th>\n",
       "      <td>180.0</td>\n",
       "      <td>180.000000</td>\n",
       "      <td>180.000000</td>\n",
       "    </tr>\n",
       "    <tr>\n",
       "      <th>mean</th>\n",
       "      <td>100.0</td>\n",
       "      <td>184.284722</td>\n",
       "      <td>1.842847</td>\n",
       "    </tr>\n",
       "    <tr>\n",
       "      <th>std</th>\n",
       "      <td>0.0</td>\n",
       "      <td>183.456068</td>\n",
       "      <td>1.834561</td>\n",
       "    </tr>\n",
       "    <tr>\n",
       "      <th>min</th>\n",
       "      <td>100.0</td>\n",
       "      <td>10.900000</td>\n",
       "      <td>0.109000</td>\n",
       "    </tr>\n",
       "    <tr>\n",
       "      <th>25%</th>\n",
       "      <td>100.0</td>\n",
       "      <td>37.425000</td>\n",
       "      <td>0.374250</td>\n",
       "    </tr>\n",
       "    <tr>\n",
       "      <th>50%</th>\n",
       "      <td>100.0</td>\n",
       "      <td>99.950000</td>\n",
       "      <td>0.999500</td>\n",
       "    </tr>\n",
       "    <tr>\n",
       "      <th>75%</th>\n",
       "      <td>100.0</td>\n",
       "      <td>320.200000</td>\n",
       "      <td>3.202000</td>\n",
       "    </tr>\n",
       "    <tr>\n",
       "      <th>max</th>\n",
       "      <td>100.0</td>\n",
       "      <td>920.000000</td>\n",
       "      <td>9.200000</td>\n",
       "    </tr>\n",
       "  </tbody>\n",
       "</table>\n",
       "</div>"
      ],
      "text/plain": [
       "        Gram  Cal/100gms      Cal/gm\n",
       "count  180.0  180.000000  180.000000\n",
       "mean   100.0  184.284722    1.842847\n",
       "std      0.0  183.456068    1.834561\n",
       "min    100.0   10.900000    0.109000\n",
       "25%    100.0   37.425000    0.374250\n",
       "50%    100.0   99.950000    0.999500\n",
       "75%    100.0  320.200000    3.202000\n",
       "max    100.0  920.000000    9.200000"
      ]
     },
     "execution_count": 128,
     "metadata": {},
     "output_type": "execute_result"
    }
   ],
   "source": [
    "df.describe()"
   ]
  },
  {
   "cell_type": "code",
   "execution_count": 129,
   "id": "c397dcb9",
   "metadata": {},
   "outputs": [
    {
     "data": {
      "text/plain": [
       "INGREDIENT    0\n",
       "Gram          0\n",
       "Cal/100gms    0\n",
       "Cal/gm        0\n",
       "dtype: int64"
      ]
     },
     "execution_count": 129,
     "metadata": {},
     "output_type": "execute_result"
    }
   ],
   "source": [
    "df.isna().sum()"
   ]
  },
  {
   "cell_type": "code",
   "execution_count": 130,
   "id": "4cdffe7b",
   "metadata": {},
   "outputs": [],
   "source": [
    "def generate_additional_data(df, iterations, factor):\n",
    "    for _ in range(iterations):\n",
    "        df1 = df.copy()\n",
    "        df1.drop([\"Gram\", \"Cal/100gms\"], axis=1, inplace=True)\n",
    "        gram = np.random.randint(1, 1001, len(df1)) * factor\n",
    "        df1.insert(1, \"Gram\", gram)\n",
    "        df1.insert(2, \"Cal/100gms\", df1[\"Gram\"] * df1[\"Cal/gm\"])\n",
    "        df = df.append(df1, ignore_index=True)\n",
    "    return df"
   ]
  },
  {
   "cell_type": "code",
   "execution_count": 131,
   "id": "9028bdc4",
   "metadata": {},
   "outputs": [
    {
     "name": "stderr",
     "output_type": "stream",
     "text": [
      "C:\\Users\\Dhruv Gandhi\\AppData\\Local\\Temp\\ipykernel_31952\\2845826108.py:8: FutureWarning: The frame.append method is deprecated and will be removed from pandas in a future version. Use pandas.concat instead.\n",
      "  df = df.append(df1, ignore_index=True)\n",
      "C:\\Users\\Dhruv Gandhi\\AppData\\Local\\Temp\\ipykernel_31952\\2845826108.py:8: FutureWarning: The frame.append method is deprecated and will be removed from pandas in a future version. Use pandas.concat instead.\n",
      "  df = df.append(df1, ignore_index=True)\n",
      "C:\\Users\\Dhruv Gandhi\\AppData\\Local\\Temp\\ipykernel_31952\\2845826108.py:8: FutureWarning: The frame.append method is deprecated and will be removed from pandas in a future version. Use pandas.concat instead.\n",
      "  df = df.append(df1, ignore_index=True)\n",
      "C:\\Users\\Dhruv Gandhi\\AppData\\Local\\Temp\\ipykernel_31952\\2845826108.py:8: FutureWarning: The frame.append method is deprecated and will be removed from pandas in a future version. Use pandas.concat instead.\n",
      "  df = df.append(df1, ignore_index=True)\n",
      "C:\\Users\\Dhruv Gandhi\\AppData\\Local\\Temp\\ipykernel_31952\\2845826108.py:8: FutureWarning: The frame.append method is deprecated and will be removed from pandas in a future version. Use pandas.concat instead.\n",
      "  df = df.append(df1, ignore_index=True)\n",
      "C:\\Users\\Dhruv Gandhi\\AppData\\Local\\Temp\\ipykernel_31952\\2845826108.py:8: FutureWarning: The frame.append method is deprecated and will be removed from pandas in a future version. Use pandas.concat instead.\n",
      "  df = df.append(df1, ignore_index=True)\n",
      "C:\\Users\\Dhruv Gandhi\\AppData\\Local\\Temp\\ipykernel_31952\\2845826108.py:8: FutureWarning: The frame.append method is deprecated and will be removed from pandas in a future version. Use pandas.concat instead.\n",
      "  df = df.append(df1, ignore_index=True)\n",
      "C:\\Users\\Dhruv Gandhi\\AppData\\Local\\Temp\\ipykernel_31952\\2845826108.py:8: FutureWarning: The frame.append method is deprecated and will be removed from pandas in a future version. Use pandas.concat instead.\n",
      "  df = df.append(df1, ignore_index=True)\n",
      "C:\\Users\\Dhruv Gandhi\\AppData\\Local\\Temp\\ipykernel_31952\\2845826108.py:8: FutureWarning: The frame.append method is deprecated and will be removed from pandas in a future version. Use pandas.concat instead.\n",
      "  df = df.append(df1, ignore_index=True)\n"
     ]
    },
    {
     "data": {
      "text/html": [
       "<div>\n",
       "<style scoped>\n",
       "    .dataframe tbody tr th:only-of-type {\n",
       "        vertical-align: middle;\n",
       "    }\n",
       "\n",
       "    .dataframe tbody tr th {\n",
       "        vertical-align: top;\n",
       "    }\n",
       "\n",
       "    .dataframe thead th {\n",
       "        text-align: right;\n",
       "    }\n",
       "</style>\n",
       "<table border=\"1\" class=\"dataframe\">\n",
       "  <thead>\n",
       "    <tr style=\"text-align: right;\">\n",
       "      <th></th>\n",
       "      <th>INGREDIENT</th>\n",
       "      <th>Gram</th>\n",
       "      <th>Cal/100gms</th>\n",
       "      <th>Cal/gm</th>\n",
       "    </tr>\n",
       "  </thead>\n",
       "  <tbody>\n",
       "    <tr>\n",
       "      <th>0</th>\n",
       "      <td>Almonds</td>\n",
       "      <td>100</td>\n",
       "      <td>609.200</td>\n",
       "      <td>6.092</td>\n",
       "    </tr>\n",
       "    <tr>\n",
       "      <th>1</th>\n",
       "      <td>Amaranth leaves</td>\n",
       "      <td>100</td>\n",
       "      <td>30.500</td>\n",
       "      <td>0.305</td>\n",
       "    </tr>\n",
       "    <tr>\n",
       "      <th>2</th>\n",
       "      <td>Amaranth seed, Black</td>\n",
       "      <td>100</td>\n",
       "      <td>356.100</td>\n",
       "      <td>3.561</td>\n",
       "    </tr>\n",
       "    <tr>\n",
       "      <th>3</th>\n",
       "      <td>Anise seeds</td>\n",
       "      <td>100</td>\n",
       "      <td>153.300</td>\n",
       "      <td>1.533</td>\n",
       "    </tr>\n",
       "    <tr>\n",
       "      <th>4</th>\n",
       "      <td>Apple</td>\n",
       "      <td>100</td>\n",
       "      <td>62.300</td>\n",
       "      <td>0.623</td>\n",
       "    </tr>\n",
       "    <tr>\n",
       "      <th>...</th>\n",
       "      <td>...</td>\n",
       "      <td>...</td>\n",
       "      <td>...</td>\n",
       "      <td>...</td>\n",
       "    </tr>\n",
       "    <tr>\n",
       "      <th>92155</th>\n",
       "      <td>Wheat vermicelli</td>\n",
       "      <td>778</td>\n",
       "      <td>2587.628</td>\n",
       "      <td>3.326</td>\n",
       "    </tr>\n",
       "    <tr>\n",
       "      <th>92156</th>\n",
       "      <td>Wheat whole</td>\n",
       "      <td>440</td>\n",
       "      <td>1416.360</td>\n",
       "      <td>3.219</td>\n",
       "    </tr>\n",
       "    <tr>\n",
       "      <th>92157</th>\n",
       "      <td>Wood apple</td>\n",
       "      <td>832</td>\n",
       "      <td>649.792</td>\n",
       "      <td>0.781</td>\n",
       "    </tr>\n",
       "    <tr>\n",
       "      <th>92158</th>\n",
       "      <td>Yam</td>\n",
       "      <td>10</td>\n",
       "      <td>8.430</td>\n",
       "      <td>0.843</td>\n",
       "    </tr>\n",
       "    <tr>\n",
       "      <th>92159</th>\n",
       "      <td>Zucchini, green</td>\n",
       "      <td>106</td>\n",
       "      <td>21.200</td>\n",
       "      <td>0.200</td>\n",
       "    </tr>\n",
       "  </tbody>\n",
       "</table>\n",
       "<p>92160 rows × 4 columns</p>\n",
       "</div>"
      ],
      "text/plain": [
       "                 INGREDIENT  Gram  Cal/100gms  Cal/gm\n",
       "0                   Almonds   100     609.200   6.092\n",
       "1           Amaranth leaves   100      30.500   0.305\n",
       "2      Amaranth seed, Black   100     356.100   3.561\n",
       "3               Anise seeds   100     153.300   1.533\n",
       "4                     Apple   100      62.300   0.623\n",
       "...                     ...   ...         ...     ...\n",
       "92155      Wheat vermicelli   778    2587.628   3.326\n",
       "92156           Wheat whole   440    1416.360   3.219\n",
       "92157            Wood apple   832     649.792   0.781\n",
       "92158                   Yam    10       8.430   0.843\n",
       "92159       Zucchini, green   106      21.200   0.200\n",
       "\n",
       "[92160 rows x 4 columns]"
      ]
     },
     "execution_count": 131,
     "metadata": {},
     "output_type": "execute_result"
    }
   ],
   "source": [
    "df = generate_additional_data(df, iterations=9, factor=1)\n",
    "\n",
    "df"
   ]
  },
  {
   "cell_type": "code",
   "execution_count": 132,
   "id": "f2ad827a",
   "metadata": {},
   "outputs": [
    {
     "data": {
      "text/html": [
       "<div>\n",
       "<style scoped>\n",
       "    .dataframe tbody tr th:only-of-type {\n",
       "        vertical-align: middle;\n",
       "    }\n",
       "\n",
       "    .dataframe tbody tr th {\n",
       "        vertical-align: top;\n",
       "    }\n",
       "\n",
       "    .dataframe thead th {\n",
       "        text-align: right;\n",
       "    }\n",
       "</style>\n",
       "<table border=\"1\" class=\"dataframe\">\n",
       "  <thead>\n",
       "    <tr style=\"text-align: right;\">\n",
       "      <th></th>\n",
       "      <th>INGREDIENT</th>\n",
       "      <th>Gram</th>\n",
       "      <th>Total Calorie</th>\n",
       "      <th>Cal/gm</th>\n",
       "    </tr>\n",
       "  </thead>\n",
       "  <tbody>\n",
       "    <tr>\n",
       "      <th>0</th>\n",
       "      <td>Almonds</td>\n",
       "      <td>100</td>\n",
       "      <td>609.200</td>\n",
       "      <td>6.092</td>\n",
       "    </tr>\n",
       "    <tr>\n",
       "      <th>1</th>\n",
       "      <td>Amaranth leaves</td>\n",
       "      <td>100</td>\n",
       "      <td>30.500</td>\n",
       "      <td>0.305</td>\n",
       "    </tr>\n",
       "    <tr>\n",
       "      <th>2</th>\n",
       "      <td>Amaranth seed, Black</td>\n",
       "      <td>100</td>\n",
       "      <td>356.100</td>\n",
       "      <td>3.561</td>\n",
       "    </tr>\n",
       "    <tr>\n",
       "      <th>3</th>\n",
       "      <td>Anise seeds</td>\n",
       "      <td>100</td>\n",
       "      <td>153.300</td>\n",
       "      <td>1.533</td>\n",
       "    </tr>\n",
       "    <tr>\n",
       "      <th>4</th>\n",
       "      <td>Apple</td>\n",
       "      <td>100</td>\n",
       "      <td>62.300</td>\n",
       "      <td>0.623</td>\n",
       "    </tr>\n",
       "    <tr>\n",
       "      <th>...</th>\n",
       "      <td>...</td>\n",
       "      <td>...</td>\n",
       "      <td>...</td>\n",
       "      <td>...</td>\n",
       "    </tr>\n",
       "    <tr>\n",
       "      <th>92155</th>\n",
       "      <td>Wheat vermicelli</td>\n",
       "      <td>778</td>\n",
       "      <td>2587.628</td>\n",
       "      <td>3.326</td>\n",
       "    </tr>\n",
       "    <tr>\n",
       "      <th>92156</th>\n",
       "      <td>Wheat whole</td>\n",
       "      <td>440</td>\n",
       "      <td>1416.360</td>\n",
       "      <td>3.219</td>\n",
       "    </tr>\n",
       "    <tr>\n",
       "      <th>92157</th>\n",
       "      <td>Wood apple</td>\n",
       "      <td>832</td>\n",
       "      <td>649.792</td>\n",
       "      <td>0.781</td>\n",
       "    </tr>\n",
       "    <tr>\n",
       "      <th>92158</th>\n",
       "      <td>Yam</td>\n",
       "      <td>10</td>\n",
       "      <td>8.430</td>\n",
       "      <td>0.843</td>\n",
       "    </tr>\n",
       "    <tr>\n",
       "      <th>92159</th>\n",
       "      <td>Zucchini, green</td>\n",
       "      <td>106</td>\n",
       "      <td>21.200</td>\n",
       "      <td>0.200</td>\n",
       "    </tr>\n",
       "  </tbody>\n",
       "</table>\n",
       "<p>92160 rows × 4 columns</p>\n",
       "</div>"
      ],
      "text/plain": [
       "                 INGREDIENT  Gram  Total Calorie  Cal/gm\n",
       "0                   Almonds   100        609.200   6.092\n",
       "1           Amaranth leaves   100         30.500   0.305\n",
       "2      Amaranth seed, Black   100        356.100   3.561\n",
       "3               Anise seeds   100        153.300   1.533\n",
       "4                     Apple   100         62.300   0.623\n",
       "...                     ...   ...            ...     ...\n",
       "92155      Wheat vermicelli   778       2587.628   3.326\n",
       "92156           Wheat whole   440       1416.360   3.219\n",
       "92157            Wood apple   832        649.792   0.781\n",
       "92158                   Yam    10          8.430   0.843\n",
       "92159       Zucchini, green   106         21.200   0.200\n",
       "\n",
       "[92160 rows x 4 columns]"
      ]
     },
     "execution_count": 132,
     "metadata": {},
     "output_type": "execute_result"
    }
   ],
   "source": [
    "df.rename(columns={\"Cal/100gms\": \"Total Calorie\"}, inplace=True)\n",
    "df"
   ]
  },
  {
   "cell_type": "code",
   "execution_count": 133,
   "id": "5e888311",
   "metadata": {},
   "outputs": [
    {
     "data": {
      "text/html": [
       "<div>\n",
       "<style scoped>\n",
       "    .dataframe tbody tr th:only-of-type {\n",
       "        vertical-align: middle;\n",
       "    }\n",
       "\n",
       "    .dataframe tbody tr th {\n",
       "        vertical-align: top;\n",
       "    }\n",
       "\n",
       "    .dataframe thead th {\n",
       "        text-align: right;\n",
       "    }\n",
       "</style>\n",
       "<table border=\"1\" class=\"dataframe\">\n",
       "  <thead>\n",
       "    <tr style=\"text-align: right;\">\n",
       "      <th></th>\n",
       "      <th>INGREDIENT</th>\n",
       "      <th>Gram</th>\n",
       "    </tr>\n",
       "  </thead>\n",
       "  <tbody>\n",
       "    <tr>\n",
       "      <th>0</th>\n",
       "      <td>Almonds</td>\n",
       "      <td>100</td>\n",
       "    </tr>\n",
       "    <tr>\n",
       "      <th>1</th>\n",
       "      <td>Amaranth leaves</td>\n",
       "      <td>100</td>\n",
       "    </tr>\n",
       "    <tr>\n",
       "      <th>2</th>\n",
       "      <td>Amaranth seed, Black</td>\n",
       "      <td>100</td>\n",
       "    </tr>\n",
       "    <tr>\n",
       "      <th>3</th>\n",
       "      <td>Anise seeds</td>\n",
       "      <td>100</td>\n",
       "    </tr>\n",
       "    <tr>\n",
       "      <th>4</th>\n",
       "      <td>Apple</td>\n",
       "      <td>100</td>\n",
       "    </tr>\n",
       "    <tr>\n",
       "      <th>...</th>\n",
       "      <td>...</td>\n",
       "      <td>...</td>\n",
       "    </tr>\n",
       "    <tr>\n",
       "      <th>92155</th>\n",
       "      <td>Wheat vermicelli</td>\n",
       "      <td>778</td>\n",
       "    </tr>\n",
       "    <tr>\n",
       "      <th>92156</th>\n",
       "      <td>Wheat whole</td>\n",
       "      <td>440</td>\n",
       "    </tr>\n",
       "    <tr>\n",
       "      <th>92157</th>\n",
       "      <td>Wood apple</td>\n",
       "      <td>832</td>\n",
       "    </tr>\n",
       "    <tr>\n",
       "      <th>92158</th>\n",
       "      <td>Yam</td>\n",
       "      <td>10</td>\n",
       "    </tr>\n",
       "    <tr>\n",
       "      <th>92159</th>\n",
       "      <td>Zucchini, green</td>\n",
       "      <td>106</td>\n",
       "    </tr>\n",
       "  </tbody>\n",
       "</table>\n",
       "<p>92160 rows × 2 columns</p>\n",
       "</div>"
      ],
      "text/plain": [
       "                 INGREDIENT  Gram\n",
       "0                   Almonds   100\n",
       "1           Amaranth leaves   100\n",
       "2      Amaranth seed, Black   100\n",
       "3               Anise seeds   100\n",
       "4                     Apple   100\n",
       "...                     ...   ...\n",
       "92155      Wheat vermicelli   778\n",
       "92156           Wheat whole   440\n",
       "92157            Wood apple   832\n",
       "92158                   Yam    10\n",
       "92159       Zucchini, green   106\n",
       "\n",
       "[92160 rows x 2 columns]"
      ]
     },
     "execution_count": 133,
     "metadata": {},
     "output_type": "execute_result"
    }
   ],
   "source": [
    "X = df[[\"INGREDIENT\", \"Gram\"]]\n",
    "Y = df[\"Total Calorie\"]\n",
    "\n",
    "X"
   ]
  },
  {
   "cell_type": "code",
   "execution_count": 134,
   "id": "384a7952",
   "metadata": {},
   "outputs": [
    {
     "data": {
      "text/plain": [
       "0         609.200\n",
       "1          30.500\n",
       "2         356.100\n",
       "3         153.300\n",
       "4          62.300\n",
       "           ...   \n",
       "92155    2587.628\n",
       "92156    1416.360\n",
       "92157     649.792\n",
       "92158       8.430\n",
       "92159      21.200\n",
       "Name: Total Calorie, Length: 92160, dtype: float64"
      ]
     },
     "execution_count": 134,
     "metadata": {},
     "output_type": "execute_result"
    }
   ],
   "source": [
    "Y"
   ]
  },
  {
   "cell_type": "code",
   "execution_count": 135,
   "id": "d2d37451",
   "metadata": {},
   "outputs": [],
   "source": [
    "encoder = LabelEncoder()"
   ]
  },
  {
   "cell_type": "code",
   "execution_count": 136,
   "id": "5c340c87",
   "metadata": {},
   "outputs": [
    {
     "name": "stderr",
     "output_type": "stream",
     "text": [
      "C:\\Users\\Dhruv Gandhi\\AppData\\Local\\Temp\\ipykernel_31952\\3675886579.py:1: SettingWithCopyWarning: \n",
      "A value is trying to be set on a copy of a slice from a DataFrame.\n",
      "Try using .loc[row_indexer,col_indexer] = value instead\n",
      "\n",
      "See the caveats in the documentation: https://pandas.pydata.org/pandas-docs/stable/user_guide/indexing.html#returning-a-view-versus-a-copy\n",
      "  X[\"INGREDIENT\"] = encoder.fit_transform(X[\"INGREDIENT\"])\n"
     ]
    }
   ],
   "source": [
    "X[\"INGREDIENT\"] = encoder.fit_transform(X[\"INGREDIENT\"])"
   ]
  },
  {
   "cell_type": "code",
   "execution_count": 137,
   "id": "cb560cd7",
   "metadata": {},
   "outputs": [
    {
     "name": "stdout",
     "output_type": "stream",
     "text": [
      "Column Name\t\tEncoding\n",
      "0\t\t\tAlmonds\n",
      "1\t\t\tAmaranth leaves\n",
      "2\t\t\tAmaranth seed, Black\n",
      "3\t\t\tAnise seeds\n",
      "4\t\t\tApple\n",
      "5\t\t\tApricot, dried\n",
      "6\t\t\tArecanut dried\n",
      "7\t\t\tAsafoetida\n",
      "8\t\t\tAsh gourd\n",
      "9\t\t\tAvocado\n",
      "10\t\t\tBajra\n",
      "11\t\t\tBamboo shoot, tender\n",
      "12\t\t\tBanana\n",
      "13\t\t\tBarley\n",
      "14\t\t\tBasil seeds\n",
      "15\t\t\tBeef, chops\n",
      "16\t\t\tBeet greens\n",
      "17\t\t\tBeetroot\n",
      "18\t\t\tBengal gram, dal\n",
      "19\t\t\tBengal gram, whole\n",
      "20\t\t\tBitter gourd\n",
      "21\t\t\tBlack cumin (Kalonji)\n",
      "22\t\t\tBlack gram, whole\n",
      "23\t\t\tBlackberry fruit\n",
      "24\t\t\tBlackcurrants\n",
      "25\t\t\tBottle gourd\n",
      "26\t\t\tBrinjal\n",
      "27\t\t\tBroad beans\n",
      "28\t\t\tBrown Rice\n",
      "29\t\t\tBrussels sprouts\n",
      "30\t\t\tBulgar wheat\n",
      "31\t\t\tButter\n",
      "32\t\t\tCabbage Chinese\n",
      "33\t\t\tCabbage, green\n",
      "34\t\t\tCapsicum\n",
      "35\t\t\tCardamom, green\n",
      "36\t\t\tCarrot\n",
      "37\t\t\tCashew nut\n",
      "38\t\t\tCat fish\n",
      "39\t\t\tCatla\n",
      "40\t\t\tCauliflower\n",
      "41\t\t\tCauliflower, leaves\n",
      "42\t\t\tCelery stalk\n",
      "43\t\t\tCheese\n",
      "44\t\t\tCherries red\n",
      "45\t\t\tChia seeds\n",
      "46\t\t\tChicken, breast,\n",
      "47\t\t\tChicken, leg, skinless\n",
      "48\t\t\tChicken, liver\n",
      "49\t\t\tChicken, thigh,\n",
      "50\t\t\tCho-Cho- Marrow\n",
      "51\t\t\tClam\n",
      "52\t\t\tCloves\n",
      "53\t\t\tCluster beans\n",
      "54\t\t\tCoconut dry\n",
      "55\t\t\tCoconut fresh\n",
      "56\t\t\tCoconut water\n",
      "57\t\t\tColocasia leaves, green\n",
      "58\t\t\tCoriander seeds\n",
      "59\t\t\tCow pea, brown\n",
      "60\t\t\tCow pea, white\n",
      "61\t\t\tCrab\n",
      "62\t\t\tCucumber\n",
      "63\t\t\tCumin seeds\n",
      "64\t\t\tCurry leaves\n",
      "65\t\t\tCustard apple\n",
      "66\t\t\tDates, dry\n",
      "67\t\t\tDrumstick leaves\n",
      "68\t\t\tEgg white, raw\n",
      "69\t\t\tEgg, whole, raw\n",
      "70\t\t\tEgg, yolk, raw\n",
      "71\t\t\tFenugreek leaves\n",
      "72\t\t\tFenugreek seeds\n",
      "73\t\t\tFig\n",
      "74\t\t\tFlax seeds\n",
      "75\t\t\tFrench beans\n",
      "76\t\t\tGarlic\n",
      "77\t\t\tGhee\n",
      "78\t\t\tGingelly seeds\n",
      "79\t\t\tGinger, fresh\n",
      "80\t\t\tGoat\n",
      "81\t\t\tGrapes\n",
      "82\t\t\tGreen chillies\n",
      "83\t\t\tGreen gram dal\n",
      "84\t\t\tGreen gram, whole\n",
      "85\t\t\tGround nut\n",
      "86\t\t\tGuava\n",
      "87\t\t\tHorse gram, whole\n",
      "88\t\t\tJack fruit\n",
      "89\t\t\tJaggery cane\n",
      "90\t\t\tJowar\n",
      "91\t\t\tKhoa\n",
      "92\t\t\tKnol-Khol\n",
      "93\t\t\tKovai\n",
      "94\t\t\tLadies finger\n",
      "95\t\t\tLentil dal\n",
      "96\t\t\tLettuce\n",
      "97\t\t\tLinseeds\n",
      "98\t\t\tLitchi\n",
      "99\t\t\tLobster\n",
      "100\t\t\tMackerel\n",
      "101\t\t\tMango\n",
      "102\t\t\tMatha\n",
      "103\t\t\tMilk, whole (Buffalo)\n",
      "104\t\t\tMilk, whole, cow\n",
      "105\t\t\tMint leaves\n",
      "106\t\t\tMusk melon\n",
      "107\t\t\tMustard leaves\n",
      "108\t\t\tNutmeg\n",
      "109\t\t\tOil\n",
      "110\t\t\tOnion\n",
      "111\t\t\tOrange\n",
      "112\t\t\tOyster\n",
      "113\t\t\tPaneer\n",
      "114\t\t\tPapaya\n",
      "115\t\t\tParsley\n",
      "116\t\t\tParwar\n",
      "117\t\t\tPeach\n",
      "118\t\t\tPear\n",
      "119\t\t\tPeas, dry\n",
      "120\t\t\tPeas,fresh\n",
      "121\t\t\tPepper, black\n",
      "122\t\t\tPine seed\n",
      "123\t\t\tPineapple\n",
      "124\t\t\tPistachio nuts\n",
      "125\t\t\tPlantain stem\n",
      "126\t\t\tPlum\n",
      "127\t\t\tPomegranate\n",
      "128\t\t\tPomfret\n",
      "129\t\t\tPoppy seeds\n",
      "130\t\t\tPork, chops\n",
      "131\t\t\tPork, shoulder\n",
      "132\t\t\tPotato brown\n",
      "133\t\t\tPumpkin\n",
      "134\t\t\tQuinoa\n",
      "135\t\t\tRadish leaves\n",
      "136\t\t\tRadish,white\n",
      "137\t\t\tRagi\n",
      "138\t\t\tRaisins, black\n",
      "139\t\t\tRajma, red\n",
      "140\t\t\tRed chillies\n",
      "141\t\t\tRed gram, dal\n",
      "142\t\t\tRed gram, whole\n",
      "143\t\t\tRefined flour\n",
      "146\t\t\tRice flakes\n",
      "144\t\t\tRice Parboiled\n",
      "145\t\t\tRice Raw milled\n",
      "147\t\t\tRidge gourd\n",
      "148\t\t\tSalmon\n",
      "149\t\t\tSapota\n",
      "150\t\t\tSardine\n",
      "151\t\t\tShark\n",
      "152\t\t\tSheep, chops\n",
      "153\t\t\tSheep, shoulder\n",
      "154\t\t\tSilver fish\n",
      "155\t\t\tSnake gourd\n",
      "156\t\t\tSoy milk\n",
      "157\t\t\tSoya bean, brown\n",
      "158\t\t\tSpinach\n",
      "159\t\t\tSquid\n",
      "160\t\t\tStrawberry\n",
      "161\t\t\tSugarcane, juice\n",
      "162\t\t\tSunflower seeds\n",
      "163\t\t\tSweet lime\n",
      "164\t\t\tSweet potato (brown)\n",
      "165\t\t\tTapioca\n",
      "166\t\t\tTiger prawns\n",
      "167\t\t\tTofu\n",
      "168\t\t\tTomato\n",
      "169\t\t\tTuna\n",
      "170\t\t\tTurmeric powder\n",
      "171\t\t\tWalnut\n",
      "172\t\t\tWatermelon\n",
      "173\t\t\tWheat flour\n",
      "174\t\t\tWheat semolina\n",
      "175\t\t\tWheat vermicelli\n",
      "176\t\t\tWheat whole\n",
      "177\t\t\tWood apple\n",
      "178\t\t\tYam\n",
      "179\t\t\tZucchini, green\n"
     ]
    }
   ],
   "source": [
    "# Print column name and its corresponding encoding\n",
    "print(\"Column Name\\t\\tEncoding\")\n",
    "for value, encoded_value in zip(df['INGREDIENT'].unique(), X[\"INGREDIENT\"]):\n",
    "    print(f\"{encoded_value}\\t\\t\\t{value}\")"
   ]
  },
  {
   "cell_type": "code",
   "execution_count": 138,
   "id": "3b505750",
   "metadata": {},
   "outputs": [
    {
     "name": "stdout",
     "output_type": "stream",
     "text": [
      "Encoding dictionary:\n",
      "{'Almonds': 0, 'Amaranth leaves': 1, 'Amaranth seed, Black': 2, 'Anise seeds': 3, 'Apple': 4, 'Apricot, dried': 5, 'Arecanut dried': 6, 'Asafoetida': 7, 'Ash gourd': 8, 'Avocado': 9, 'Bajra': 10, 'Bamboo shoot, tender': 11, 'Banana': 12, 'Barley': 13, 'Basil seeds': 14, 'Beef, chops': 15, 'Beet greens': 16, 'Beetroot': 17, 'Bengal gram, dal': 18, 'Bengal gram, whole': 19, 'Bitter gourd': 20, 'Black cumin (Kalonji)': 21, 'Black gram, whole': 22, 'Blackberry fruit': 23, 'Blackcurrants': 24, 'Bottle gourd': 25, 'Brinjal': 26, 'Broad beans': 27, 'Brown Rice': 28, 'Brussels sprouts': 29, 'Bulgar wheat': 30, 'Butter': 31, 'Cabbage Chinese': 32, 'Cabbage, green': 33, 'Capsicum': 34, 'Cardamom, green': 35, 'Carrot': 36, 'Cashew nut': 37, 'Cat fish': 38, 'Catla': 39, 'Cauliflower': 40, 'Cauliflower, leaves': 41, 'Celery stalk': 42, 'Cheese': 43, 'Cherries red': 44, 'Chia seeds': 45, 'Chicken, breast,': 46, 'Chicken, leg, skinless': 47, 'Chicken, liver': 48, 'Chicken, thigh,': 49, 'Cho-Cho- Marrow': 50, 'Clam': 51, 'Cloves': 52, 'Cluster beans': 53, 'Coconut dry': 54, 'Coconut fresh': 55, 'Coconut water': 56, 'Colocasia leaves, green': 57, 'Coriander seeds': 58, 'Cow pea, brown': 59, 'Cow pea, white': 60, 'Crab': 61, 'Cucumber': 62, 'Cumin seeds': 63, 'Curry leaves': 64, 'Custard apple': 65, 'Dates, dry': 66, 'Drumstick leaves': 67, 'Egg white, raw': 68, 'Egg, whole, raw': 69, 'Egg, yolk, raw': 70, 'Fenugreek leaves': 71, 'Fenugreek seeds': 72, 'Fig': 73, 'Flax seeds': 74, 'French beans': 75, 'Garlic': 76, 'Ghee': 77, 'Gingelly seeds': 78, 'Ginger, fresh': 79, 'Goat': 80, 'Grapes': 81, 'Green chillies': 82, 'Green gram dal': 83, 'Green gram, whole': 84, 'Ground nut': 85, 'Guava': 86, 'Horse gram, whole': 87, 'Jack fruit': 88, 'Jaggery cane': 89, 'Jowar': 90, 'Khoa': 91, 'Knol-Khol': 92, 'Kovai': 93, 'Ladies finger': 94, 'Lentil dal': 95, 'Lettuce': 96, 'Linseeds': 97, 'Litchi': 98, 'Lobster': 99, 'Mackerel': 100, 'Mango': 101, 'Matha': 102, 'Milk, whole (Buffalo)': 103, 'Milk, whole, cow': 104, 'Mint leaves': 105, 'Musk melon': 106, 'Mustard leaves': 107, 'Nutmeg': 108, 'Oil': 109, 'Onion': 110, 'Orange': 111, 'Oyster': 112, 'Paneer': 113, 'Papaya': 114, 'Parsley': 115, 'Parwar': 116, 'Peach': 117, 'Pear': 118, 'Peas, dry': 119, 'Peas,fresh': 120, 'Pepper, black': 121, 'Pine seed': 122, 'Pineapple': 123, 'Pistachio nuts': 124, 'Plantain stem': 125, 'Plum': 126, 'Pomegranate': 127, 'Pomfret': 128, 'Poppy seeds': 129, 'Pork, chops': 130, 'Pork, shoulder': 131, 'Potato brown': 132, 'Pumpkin': 133, 'Quinoa': 134, 'Radish leaves': 135, 'Radish,white': 136, 'Ragi': 137, 'Raisins, black': 138, 'Rajma, red': 139, 'Red chillies': 140, 'Red gram, dal': 141, 'Red gram, whole': 142, 'Refined flour': 143, 'Rice flakes': 146, 'Rice Parboiled': 144, 'Rice Raw milled': 145, 'Ridge gourd': 147, 'Salmon': 148, 'Sapota': 149, 'Sardine': 150, 'Shark': 151, 'Sheep, chops': 152, 'Sheep, shoulder': 153, 'Silver fish': 154, 'Snake gourd': 155, 'Soy milk': 156, 'Soya bean, brown': 157, 'Spinach': 158, 'Squid': 159, 'Strawberry': 160, 'Sugarcane, juice': 161, 'Sunflower seeds': 162, 'Sweet lime': 163, 'Sweet potato (brown)': 164, 'Tapioca': 165, 'Tiger prawns': 166, 'Tofu': 167, 'Tomato': 168, 'Tuna': 169, 'Turmeric powder': 170, 'Walnut': 171, 'Watermelon': 172, 'Wheat flour': 173, 'Wheat semolina': 174, 'Wheat vermicelli': 175, 'Wheat whole': 176, 'Wood apple': 177, 'Yam': 178, 'Zucchini, green': 179}\n"
     ]
    }
   ],
   "source": [
    "encoding_dict = {}\n",
    "\n",
    "for value, encoded_value in zip(df['INGREDIENT'].unique(), X[\"INGREDIENT\"]):\n",
    "    encoding_dict[value] = encoded_value\n",
    "\n",
    "print(\"Encoding dictionary:\")\n",
    "print(encoding_dict)"
   ]
  },
  {
   "cell_type": "code",
   "execution_count": 139,
   "id": "0ab9bc65",
   "metadata": {},
   "outputs": [
    {
     "data": {
      "text/plain": [
       "0"
      ]
     },
     "execution_count": 139,
     "metadata": {},
     "output_type": "execute_result"
    }
   ],
   "source": [
    "encoding_dict.get(\"Almonds\")"
   ]
  },
  {
   "cell_type": "code",
   "execution_count": 140,
   "id": "2b9ab8ad",
   "metadata": {},
   "outputs": [
    {
     "data": {
      "text/html": [
       "<div>\n",
       "<style scoped>\n",
       "    .dataframe tbody tr th:only-of-type {\n",
       "        vertical-align: middle;\n",
       "    }\n",
       "\n",
       "    .dataframe tbody tr th {\n",
       "        vertical-align: top;\n",
       "    }\n",
       "\n",
       "    .dataframe thead th {\n",
       "        text-align: right;\n",
       "    }\n",
       "</style>\n",
       "<table border=\"1\" class=\"dataframe\">\n",
       "  <thead>\n",
       "    <tr style=\"text-align: right;\">\n",
       "      <th></th>\n",
       "      <th>INGREDIENT</th>\n",
       "      <th>Gram</th>\n",
       "    </tr>\n",
       "  </thead>\n",
       "  <tbody>\n",
       "    <tr>\n",
       "      <th>0</th>\n",
       "      <td>0</td>\n",
       "      <td>100</td>\n",
       "    </tr>\n",
       "    <tr>\n",
       "      <th>1</th>\n",
       "      <td>1</td>\n",
       "      <td>100</td>\n",
       "    </tr>\n",
       "    <tr>\n",
       "      <th>2</th>\n",
       "      <td>2</td>\n",
       "      <td>100</td>\n",
       "    </tr>\n",
       "    <tr>\n",
       "      <th>3</th>\n",
       "      <td>3</td>\n",
       "      <td>100</td>\n",
       "    </tr>\n",
       "    <tr>\n",
       "      <th>4</th>\n",
       "      <td>4</td>\n",
       "      <td>100</td>\n",
       "    </tr>\n",
       "    <tr>\n",
       "      <th>...</th>\n",
       "      <td>...</td>\n",
       "      <td>...</td>\n",
       "    </tr>\n",
       "    <tr>\n",
       "      <th>92155</th>\n",
       "      <td>175</td>\n",
       "      <td>778</td>\n",
       "    </tr>\n",
       "    <tr>\n",
       "      <th>92156</th>\n",
       "      <td>176</td>\n",
       "      <td>440</td>\n",
       "    </tr>\n",
       "    <tr>\n",
       "      <th>92157</th>\n",
       "      <td>177</td>\n",
       "      <td>832</td>\n",
       "    </tr>\n",
       "    <tr>\n",
       "      <th>92158</th>\n",
       "      <td>178</td>\n",
       "      <td>10</td>\n",
       "    </tr>\n",
       "    <tr>\n",
       "      <th>92159</th>\n",
       "      <td>179</td>\n",
       "      <td>106</td>\n",
       "    </tr>\n",
       "  </tbody>\n",
       "</table>\n",
       "<p>92160 rows × 2 columns</p>\n",
       "</div>"
      ],
      "text/plain": [
       "       INGREDIENT  Gram\n",
       "0               0   100\n",
       "1               1   100\n",
       "2               2   100\n",
       "3               3   100\n",
       "4               4   100\n",
       "...           ...   ...\n",
       "92155         175   778\n",
       "92156         176   440\n",
       "92157         177   832\n",
       "92158         178    10\n",
       "92159         179   106\n",
       "\n",
       "[92160 rows x 2 columns]"
      ]
     },
     "execution_count": 140,
     "metadata": {},
     "output_type": "execute_result"
    }
   ],
   "source": [
    "X"
   ]
  },
  {
   "cell_type": "code",
   "execution_count": 217,
   "id": "2527524d",
   "metadata": {},
   "outputs": [],
   "source": [
    "X_train, X_test, y_train, y_test = train_test_split(X, Y, test_size=0.04, shuffle=True, random_state=101)"
   ]
  },
  {
   "cell_type": "code",
   "execution_count": 218,
   "id": "4362d3ea",
   "metadata": {},
   "outputs": [
    {
     "data": {
      "text/html": [
       "<div>\n",
       "<style scoped>\n",
       "    .dataframe tbody tr th:only-of-type {\n",
       "        vertical-align: middle;\n",
       "    }\n",
       "\n",
       "    .dataframe tbody tr th {\n",
       "        vertical-align: top;\n",
       "    }\n",
       "\n",
       "    .dataframe thead th {\n",
       "        text-align: right;\n",
       "    }\n",
       "</style>\n",
       "<table border=\"1\" class=\"dataframe\">\n",
       "  <thead>\n",
       "    <tr style=\"text-align: right;\">\n",
       "      <th></th>\n",
       "      <th>INGREDIENT</th>\n",
       "      <th>Gram</th>\n",
       "    </tr>\n",
       "  </thead>\n",
       "  <tbody>\n",
       "    <tr>\n",
       "      <th>14642</th>\n",
       "      <td>62</td>\n",
       "      <td>544</td>\n",
       "    </tr>\n",
       "    <tr>\n",
       "      <th>59326</th>\n",
       "      <td>106</td>\n",
       "      <td>903</td>\n",
       "    </tr>\n",
       "    <tr>\n",
       "      <th>48413</th>\n",
       "      <td>173</td>\n",
       "      <td>54</td>\n",
       "    </tr>\n",
       "    <tr>\n",
       "      <th>49316</th>\n",
       "      <td>176</td>\n",
       "      <td>127</td>\n",
       "    </tr>\n",
       "    <tr>\n",
       "      <th>75161</th>\n",
       "      <td>101</td>\n",
       "      <td>978</td>\n",
       "    </tr>\n",
       "    <tr>\n",
       "      <th>...</th>\n",
       "      <td>...</td>\n",
       "      <td>...</td>\n",
       "    </tr>\n",
       "    <tr>\n",
       "      <th>5695</th>\n",
       "      <td>115</td>\n",
       "      <td>924</td>\n",
       "    </tr>\n",
       "    <tr>\n",
       "      <th>73542</th>\n",
       "      <td>102</td>\n",
       "      <td>493</td>\n",
       "    </tr>\n",
       "    <tr>\n",
       "      <th>83281</th>\n",
       "      <td>121</td>\n",
       "      <td>75</td>\n",
       "    </tr>\n",
       "    <tr>\n",
       "      <th>83467</th>\n",
       "      <td>127</td>\n",
       "      <td>424</td>\n",
       "    </tr>\n",
       "    <tr>\n",
       "      <th>45919</th>\n",
       "      <td>19</td>\n",
       "      <td>318</td>\n",
       "    </tr>\n",
       "  </tbody>\n",
       "</table>\n",
       "<p>88473 rows × 2 columns</p>\n",
       "</div>"
      ],
      "text/plain": [
       "       INGREDIENT  Gram\n",
       "14642          62   544\n",
       "59326         106   903\n",
       "48413         173    54\n",
       "49316         176   127\n",
       "75161         101   978\n",
       "...           ...   ...\n",
       "5695          115   924\n",
       "73542         102   493\n",
       "83281         121    75\n",
       "83467         127   424\n",
       "45919          19   318\n",
       "\n",
       "[88473 rows x 2 columns]"
      ]
     },
     "execution_count": 218,
     "metadata": {},
     "output_type": "execute_result"
    }
   ],
   "source": [
    "X_train"
   ]
  },
  {
   "cell_type": "code",
   "execution_count": 219,
   "id": "20b2cac3",
   "metadata": {},
   "outputs": [
    {
     "data": {
      "text/plain": [
       "14642    106.080\n",
       "59326    208.593\n",
       "48413    172.908\n",
       "49316    408.813\n",
       "75161    408.804\n",
       "          ...   \n",
       "5695     672.672\n",
       "73542    457.997\n",
       "83281    163.050\n",
       "83467    231.928\n",
       "45919    912.660\n",
       "Name: Total Calorie, Length: 88473, dtype: float64"
      ]
     },
     "execution_count": 219,
     "metadata": {},
     "output_type": "execute_result"
    }
   ],
   "source": [
    "y_train"
   ]
  },
  {
   "cell_type": "code",
   "execution_count": 220,
   "id": "2f456a51",
   "metadata": {},
   "outputs": [],
   "source": [
    "# Linear Regression\n",
    "linear_reg_model = LinearRegression()\n",
    "linear_reg_model.fit(X_train, y_train)\n",
    "linear_reg_pred = linear_reg_model.predict(X_test)\n",
    "linear_reg_mae = mean_absolute_error(y_test, linear_reg_pred)\n",
    "linear_reg_mse = mean_squared_error(y_test, linear_reg_pred)\n",
    "linear_reg_r2 = r2_score(y_test, linear_reg_pred)"
   ]
  },
  {
   "cell_type": "code",
   "execution_count": 221,
   "id": "e6477bb5",
   "metadata": {},
   "outputs": [],
   "source": [
    "# Decision Trees\n",
    "decision_tree_model = DecisionTreeRegressor()\n",
    "decision_tree_model.fit(X_train, y_train)\n",
    "decision_tree_pred = decision_tree_model.predict(X_test)\n",
    "decision_tree_mae = mean_absolute_error(y_test, decision_tree_pred)\n",
    "decision_tree_mse = mean_squared_error(y_test, decision_tree_pred)\n",
    "decision_tree_r2 = r2_score(y_test, decision_tree_pred)"
   ]
  },
  {
   "cell_type": "code",
   "execution_count": 222,
   "id": "7df5f689",
   "metadata": {},
   "outputs": [],
   "source": [
    "# Random Forests\n",
    "random_forest_model = RandomForestRegressor()\n",
    "random_forest_model.fit(X_train, y_train)\n",
    "random_forest_pred = random_forest_model.predict(X_test)\n",
    "random_forest_mae = mean_absolute_error(y_test, random_forest_pred)\n",
    "random_forest_mse = mean_squared_error(y_test, random_forest_pred)\n",
    "random_forest_r2 = r2_score(y_test, random_forest_pred)"
   ]
  },
  {
   "cell_type": "code",
   "execution_count": 223,
   "id": "4f2b74c1",
   "metadata": {},
   "outputs": [],
   "source": [
    "# Gradient Boosting\n",
    "gradient_boosting_model = GradientBoostingRegressor()\n",
    "gradient_boosting_model.fit(X_train, y_train)\n",
    "gradient_boosting_pred = gradient_boosting_model.predict(X_test)\n",
    "gradient_boosting_mae = mean_absolute_error(y_test, gradient_boosting_pred)\n",
    "gradient_boosting_mse = mean_squared_error(y_test, gradient_boosting_pred)\n",
    "gradient_boosting_r2 = r2_score(y_test, gradient_boosting_pred)"
   ]
  },
  {
   "cell_type": "code",
   "execution_count": 224,
   "id": "656197e7",
   "metadata": {},
   "outputs": [
    {
     "name": "stdout",
     "output_type": "stream",
     "text": [
      "Linear Regression - MAE: 771.2693917156768 MSE: 1183836.938402952 R-squared: 0.2108988163092833\n",
      "Decision Trees - MAE: 2.198984540276648 MSE: 38.134449805126124 R-squared: 0.9999745810098465\n",
      "Random Forests - MAE: 2.3956911120152053 MSE: 31.336856744423944 R-squared: 0.99997911202975\n",
      "Gradient Boosting - MAE: 525.4234490298036 MSE: 600641.299186794 R-squared: 0.5996350977177389\n"
     ]
    }
   ],
   "source": [
    "# Print evaluation metrics\n",
    "print(\"Linear Regression - MAE:\", linear_reg_mae, \"MSE:\", linear_reg_mse, \"R-squared:\", linear_reg_r2)\n",
    "print(\"Decision Trees - MAE:\", decision_tree_mae, \"MSE:\", decision_tree_mse, \"R-squared:\", decision_tree_r2)\n",
    "print(\"Random Forests - MAE:\", random_forest_mae, \"MSE:\", random_forest_mse, \"R-squared:\", random_forest_r2)\n",
    "print(\"Gradient Boosting - MAE:\", gradient_boosting_mae, \"MSE:\", gradient_boosting_mse, \"R-squared:\", gradient_boosting_r2)"
   ]
  },
  {
   "cell_type": "code",
   "execution_count": 225,
   "id": "5caca44e",
   "metadata": {},
   "outputs": [
    {
     "data": {
      "text/plain": [
       "array([182.043, 151.434, 197.386,  77.252, 140.812])"
      ]
     },
     "execution_count": 225,
     "metadata": {},
     "output_type": "execute_result"
    }
   ],
   "source": [
    "decision_tree_model.predict(X_test[:5])"
   ]
  },
  {
   "cell_type": "code",
   "execution_count": 226,
   "id": "41486564",
   "metadata": {},
   "outputs": [
    {
     "data": {
      "text/plain": [
       "87758    182.580\n",
       "20438    150.360\n",
       "65246    197.386\n",
       "48784     77.252\n",
       "31190    140.812\n",
       "Name: Total Calorie, dtype: float64"
      ]
     },
     "execution_count": 226,
     "metadata": {},
     "output_type": "execute_result"
    }
   ],
   "source": [
    "y_test[:5]"
   ]
  },
  {
   "cell_type": "code",
   "execution_count": 227,
   "id": "a7445e7e",
   "metadata": {},
   "outputs": [
    {
     "data": {
      "text/plain": [
       "array([183.13848, 150.89163, 197.33126,  77.40152, 140.79696])"
      ]
     },
     "execution_count": 227,
     "metadata": {},
     "output_type": "execute_result"
    }
   ],
   "source": [
    "random_forest_model.predict(X_test[:5])"
   ]
  },
  {
   "cell_type": "code",
   "execution_count": 228,
   "id": "bcbb1fd1",
   "metadata": {},
   "outputs": [
    {
     "data": {
      "text/plain": [
       "87758    182.580\n",
       "20438    150.360\n",
       "65246    197.386\n",
       "48784     77.252\n",
       "31190    140.812\n",
       "Name: Total Calorie, dtype: float64"
      ]
     },
     "execution_count": 228,
     "metadata": {},
     "output_type": "execute_result"
    }
   ],
   "source": [
    "y_test[:5]"
   ]
  },
  {
   "cell_type": "code",
   "execution_count": 229,
   "id": "e3b99357",
   "metadata": {},
   "outputs": [
    {
     "data": {
      "text/html": [
       "<div>\n",
       "<style scoped>\n",
       "    .dataframe tbody tr th:only-of-type {\n",
       "        vertical-align: middle;\n",
       "    }\n",
       "\n",
       "    .dataframe tbody tr th {\n",
       "        vertical-align: top;\n",
       "    }\n",
       "\n",
       "    .dataframe thead th {\n",
       "        text-align: right;\n",
       "    }\n",
       "</style>\n",
       "<table border=\"1\" class=\"dataframe\">\n",
       "  <thead>\n",
       "    <tr style=\"text-align: right;\">\n",
       "      <th></th>\n",
       "      <th>INGREDIENT</th>\n",
       "      <th>Gram</th>\n",
       "    </tr>\n",
       "  </thead>\n",
       "  <tbody>\n",
       "    <tr>\n",
       "      <th>87758</th>\n",
       "      <td>98</td>\n",
       "      <td>340</td>\n",
       "    </tr>\n",
       "    <tr>\n",
       "      <th>20438</th>\n",
       "      <td>98</td>\n",
       "      <td>280</td>\n",
       "    </tr>\n",
       "    <tr>\n",
       "      <th>65246</th>\n",
       "      <td>86</td>\n",
       "      <td>613</td>\n",
       "    </tr>\n",
       "    <tr>\n",
       "      <th>48784</th>\n",
       "      <td>4</td>\n",
       "      <td>124</td>\n",
       "    </tr>\n",
       "    <tr>\n",
       "      <th>31190</th>\n",
       "      <td>50</td>\n",
       "      <td>749</td>\n",
       "    </tr>\n",
       "  </tbody>\n",
       "</table>\n",
       "</div>"
      ],
      "text/plain": [
       "       INGREDIENT  Gram\n",
       "87758          98   340\n",
       "20438          98   280\n",
       "65246          86   613\n",
       "48784           4   124\n",
       "31190          50   749"
      ]
     },
     "execution_count": 229,
     "metadata": {},
     "output_type": "execute_result"
    }
   ],
   "source": [
    "X_test[:5]"
   ]
  },
  {
   "cell_type": "code",
   "execution_count": 230,
   "id": "bf93a2df",
   "metadata": {},
   "outputs": [],
   "source": [
    "predicted_values_random_forest = random_forest_model.predict(X_test)\n",
    "predicted_values_decision_tree = random_forest_model.predict(X_test)"
   ]
  },
  {
   "cell_type": "code",
   "execution_count": 231,
   "id": "68f8988a",
   "metadata": {},
   "outputs": [
    {
     "data": {
      "image/png": "[encoded data removed]",
      "text/plain": [
       "<Figure size 800x600 with 1 Axes>"
      ]
     },
     "metadata": {},
     "output_type": "display_data"
    }
   ],
   "source": [
    "plt.figure(figsize=(8, 6))\n",
    "plt.scatter(y_test, predicted_values_random_forest, color='blue', marker='+')\n",
    "plt.plot(y_test, y_test, color='red', linestyle='--')\n",
    "plt.title('Predicted vs. Actual Values in Random Forest')\n",
    "plt.xlabel('Actual Values')\n",
    "plt.ylabel('Predicted Values')\n",
    "plt.grid(True)\n",
    "plt.show()"
   ]
  },
  {
   "cell_type": "code",
   "execution_count": 232,
   "id": "0a7b6979",
   "metadata": {},
   "outputs": [
    {
     "data": {
      "image/png": "[encoded data removed]",
      "text/plain": [
       "<Figure size 800x600 with 1 Axes>"
      ]
     },
     "metadata": {},
     "output_type": "display_data"
    }
   ],
   "source": [
    "plt.figure(figsize=(8, 6))\n",
    "plt.scatter(y_test, predicted_values_decision_tree, color='blue', marker='x')\n",
    "plt.plot(y_test, y_test, color='red', linestyle='--')\n",
    "plt.title('Predicted vs. Actual Values in Decision Tree')\n",
    "plt.xlabel('Actual Values')\n",
    "plt.ylabel('Predicted Values')\n",
    "plt.grid(True)\n",
    "plt.show()"
   ]
  },
  {
   "cell_type": "code",
   "execution_count": 233,
   "id": "c4ca7046",
   "metadata": {},
   "outputs": [
    {
     "name": "stderr",
     "output_type": "stream",
     "text": [
      "C:\\Users\\Dhruv Gandhi\\anaconda3\\lib\\site-packages\\sklearn\\base.py:450: UserWarning: X does not have valid feature names, but DecisionTreeRegressor was fitted with feature names\n",
      "  warnings.warn(\n"
     ]
    },
    {
     "data": {
      "text/plain": [
       "array([48.706])"
      ]
     },
     "execution_count": 233,
     "metadata": {},
     "output_type": "execute_result"
    }
   ],
   "source": [
    "decision_tree_model.predict([[10, 14]])"
   ]
  },
  {
   "cell_type": "code",
   "execution_count": 234,
   "id": "114bfdd0",
   "metadata": {},
   "outputs": [
    {
     "name": "stderr",
     "output_type": "stream",
     "text": [
      "C:\\Users\\Dhruv Gandhi\\anaconda3\\lib\\site-packages\\sklearn\\base.py:450: UserWarning: X does not have valid feature names, but RandomForestRegressor was fitted with feature names\n",
      "  warnings.warn(\n"
     ]
    },
    {
     "data": {
      "text/plain": [
       "array([46.20375])"
      ]
     },
     "execution_count": 234,
     "metadata": {},
     "output_type": "execute_result"
    }
   ],
   "source": [
    "random_forest_model.predict([[10, 14]])"
   ]
  },
  {
   "cell_type": "code",
   "execution_count": 235,
   "id": "0406f873",
   "metadata": {},
   "outputs": [],
   "source": [
    "def predict_calorie(ingredient, gram):    \n",
    "    en = encoding_dict.get(ingredient)\n",
    "    return decision_tree_model.predict([[en, gram]])[0]"
   ]
  },
  {
   "cell_type": "code",
   "execution_count": 236,
   "id": "764f2882",
   "metadata": {},
   "outputs": [
    {
     "name": "stdout",
     "output_type": "stream",
     "text": [
      "Enter the ingredient: Bajra\n",
      "Enter the gram: 150\n"
     ]
    },
    {
     "name": "stderr",
     "output_type": "stream",
     "text": [
      "C:\\Users\\Dhruv Gandhi\\anaconda3\\lib\\site-packages\\sklearn\\base.py:450: UserWarning: X does not have valid feature names, but DecisionTreeRegressor was fitted with feature names\n",
      "  warnings.warn(\n"
     ]
    },
    {
     "data": {
      "text/plain": [
       "518.371"
      ]
     },
     "execution_count": 236,
     "metadata": {},
     "output_type": "execute_result"
    }
   ],
   "source": [
    "ingredient = input(\"Enter the ingredient: \")\n",
    "gram = input(\"Enter the gram: \")\n",
    "predict_calorie(ingredient, gram)"
   ]
  },
  {
   "cell_type": "code",
   "execution_count": 237,
   "id": "8713f076",
   "metadata": {},
   "outputs": [
    {
     "data": {
      "image/png": "[encoded data removed]",
      "text/plain": [
       "<Figure size 1000x600 with 1 Axes>"
      ]
     },
     "metadata": {},
     "output_type": "display_data"
    }
   ],
   "source": [
    "max_depths = np.arange(1, 21)  # Vary the maximum depth of the decision tree\n",
    "\n",
    "train_errors = []\n",
    "test_errors = []\n",
    "\n",
    "for max_depth in max_depths:\n",
    "    # Train a decision tree regressor\n",
    "    model = DecisionTreeRegressor(max_depth=max_depth)\n",
    "    model.fit(X_train, y_train)\n",
    "    \n",
    "    # Predictions on training and testing data\n",
    "    y_train_pred = model.predict(X_train)\n",
    "    y_test_pred = model.predict(X_test)\n",
    "    \n",
    "    # Calculate MAE, MSE, and R-squared for training and testing data\n",
    "    train_mae = mean_absolute_error(y_train, y_train_pred)\n",
    "    test_mae = mean_absolute_error(y_test, y_test_pred)\n",
    "    \n",
    "    train_errors.append(train_mae)\n",
    "    test_errors.append(test_mae)\n",
    "\n",
    "# Plotting the training and testing errors\n",
    "plt.figure(figsize=(10, 6))\n",
    "plt.plot(max_depths, train_errors, label='Training Error', marker='o')\n",
    "plt.plot(max_depths, test_errors, label='Testing Error', marker='o')\n",
    "plt.xlabel('Max Depth of Decision Tree')\n",
    "plt.ylabel('Mean Absolute Error')\n",
    "plt.title('Decision Tree Performance vs. Max Depth')\n",
    "plt.legend()\n",
    "plt.grid(True)\n",
    "plt.show()"
   ]
  },
  {
   "cell_type": "code",
   "execution_count": 238,
   "id": "e958aded",
   "metadata": {},
   "outputs": [
    {
     "data": {
      "image/png": "[encoded data removed]",
      "text/plain": [
       "<Figure size 1000x600 with 1 Axes>"
      ]
     },
     "metadata": {},
     "output_type": "display_data"
    }
   ],
   "source": [
    "max_depths = np.arange(1, 25)  # Vary the maximum depth of the decision tree\n",
    "\n",
    "train_mse = []\n",
    "test_mse = []\n",
    "\n",
    "for max_depth in max_depths:\n",
    "    # Train a decision tree regressor\n",
    "    model = DecisionTreeRegressor(max_depth=max_depth)\n",
    "    model.fit(X_train, y_train)\n",
    "    \n",
    "    # Predictions on training and testing data\n",
    "    y_train_pred = model.predict(X_train)\n",
    "    y_test_pred = model.predict(X_test)\n",
    "    \n",
    "    # Calculate MAE for training and testing data\n",
    "    train_mse.append(mean_squared_error(y_train, y_train_pred))\n",
    "    test_mse.append(mean_squared_error(y_test, y_test_pred))\n",
    "\n",
    "# Plotting MAE vs Maximum Depth\n",
    "plt.figure(figsize=(10, 6))\n",
    "plt.plot(max_depths, train_mse, label='Train MSE')\n",
    "plt.plot(max_depths, test_mse, label='Test MSE')\n",
    "plt.xlabel('Maximum Depth')\n",
    "plt.ylabel('Mean Square Error (MSE)')\n",
    "plt.title('MSE vs Maximum Depth of Decision Tree')\n",
    "plt.xticks(max_depths)\n",
    "plt.legend()\n",
    "plt.grid(True)\n",
    "plt.show()"
   ]
  },
  {
   "cell_type": "code",
   "execution_count": 239,
   "id": "bdfa33d8",
   "metadata": {},
   "outputs": [],
   "source": [
    "pickle.dump(decision_tree_model, open(\"model.pkl\", \"wb\"))"
   ]
  },
  {
   "cell_type": "code",
   "execution_count": 43,
   "id": "98614c52",
   "metadata": {},
   "outputs": [],
   "source": [
    "model = pickle.load(open(\"model.pkl\",\"rb\"))"
   ]
  },
  {
   "cell_type": "code",
   "execution_count": null,
   "id": "78eae1c1",
   "metadata": {},
   "outputs": [],
   "source": []
  }
 ],
 "metadata": {
  "kernelspec": {
   "display_name": "Python 3 (ipykernel)",
   "language": "python",
   "name": "python3"
  },
  "language_info": {
   "codemirror_mode": {
    "name": "ipython",
    "version": 3
   },
   "file_extension": ".py",
   "mimetype": "text/x-python",
   "name": "python",
   "nbconvert_exporter": "python",
   "pygments_lexer": "ipython3",
   "version": "3.9.13"
  }
 },
 "nbformat": 4,
 "nbformat_minor": 5
}
