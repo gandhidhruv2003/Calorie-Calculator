{
 "cells": [
  {
   "cell_type": "code",
   "execution_count": 1,
   "id": "71be05ff",
   "metadata": {},
   "outputs": [
    {
     "data": {
      "text/plain": [
       "'df1 = df.copy()\\ndf1.drop([\"Gram\", \"Cal/100gms\"], axis=1, inplace=True)\\ngram = np.random.randint(1, 100, 180)\\ndf1.insert(1, \"Gram\", gram)\\ndf1.insert(2, \"Cal/100gms\", df1[\"Gram\"]*df1[\"Cal/gm\"])\\ndf = df.append(df1, ignore_index=True)\\n\\ndf1 = df.copy()\\ndf1.drop([\"Gram\", \"Cal/100gms\"], axis=1, inplace=True)\\ngram = np.random.randint(1, 100, 180*2)\\ndf1.insert(1, \"Gram\", gram)\\ndf1.insert(2, \"Cal/100gms\", df1[\"Gram\"]*df1[\"Cal/gm\"])\\ndf = df.append(df1, ignore_index=True)\\n\\ndf1 = df.copy()\\ndf1.drop([\"Gram\", \"Cal/100gms\"], axis=1, inplace=True)\\ngram = np.random.randint(1, 100, 180*4)\\ndf1.insert(1, \"Gram\", gram)\\ndf1.insert(2, \"Cal/100gms\", df1[\"Gram\"]*df1[\"Cal/gm\"])\\ndf = df.append(df1, ignore_index=True)\\n\\ndf1 = df.copy()\\ndf1.drop([\"Gram\", \"Cal/100gms\"], axis=1, inplace=True)\\ngram = np.random.randint(1, 100, 180*8)\\ndf1.insert(1, \"Gram\", gram)\\ndf1.insert(2, \"Cal/100gms\", df1[\"Gram\"]*df1[\"Cal/gm\"])\\ndf = df.append(df1, ignore_index=True)\\n\\ndf1 = df.copy()\\ndf1.drop([\"Gram\", \"Cal/100gms\"], axis=1, inplace=True)\\ngram = np.random.randint(1, 100, 180*16)\\ndf1.insert(1, \"Gram\", gram)\\ndf1.insert(2, \"Cal/100gms\", df1[\"Gram\"]*df1[\"Cal/gm\"])\\ndf = df.append(df1, ignore_index=True)\\n\\ndf1 = df.copy()\\ndf1.drop([\"Gram\", \"Cal/100gms\"], axis=1, inplace=True)\\ngram = np.random.randint(1, 100, 180*32)\\ndf1.insert(1, \"Gram\", gram)\\ndf1.insert(2, \"Cal/100gms\", df1[\"Gram\"]*df1[\"Cal/gm\"])\\ndf = df.append(df1, ignore_index=True)\\n\\ndf1 = df.copy()\\ndf1.drop([\"Gram\", \"Cal/100gms\"], axis=1, inplace=True)\\ngram = np.random.randint(1, 100, 180*64)\\ndf1.insert(1, \"Gram\", gram)\\ndf1.insert(2, \"Cal/100gms\", df1[\"Gram\"]*df1[\"Cal/gm\"])\\ndf = df.append(df1, ignore_index=True)'"
      ]
     },
     "execution_count": 1,
     "metadata": {},
     "output_type": "execute_result"
    }
   ],
   "source": [
    "\"\"\"df1 = df.copy()\n",
    "df1.drop([\"Gram\", \"Cal/100gms\"], axis=1, inplace=True)\n",
    "gram = np.random.randint(1, 100, 180)\n",
    "df1.insert(1, \"Gram\", gram)\n",
    "df1.insert(2, \"Cal/100gms\", df1[\"Gram\"]*df1[\"Cal/gm\"])\n",
    "df = df.append(df1, ignore_index=True)\n",
    "\n",
    "df1 = df.copy()\n",
    "df1.drop([\"Gram\", \"Cal/100gms\"], axis=1, inplace=True)\n",
    "gram = np.random.randint(1, 100, 180*2)\n",
    "df1.insert(1, \"Gram\", gram)\n",
    "df1.insert(2, \"Cal/100gms\", df1[\"Gram\"]*df1[\"Cal/gm\"])\n",
    "df = df.append(df1, ignore_index=True)\n",
    "\n",
    "df1 = df.copy()\n",
    "df1.drop([\"Gram\", \"Cal/100gms\"], axis=1, inplace=True)\n",
    "gram = np.random.randint(1, 100, 180*4)\n",
    "df1.insert(1, \"Gram\", gram)\n",
    "df1.insert(2, \"Cal/100gms\", df1[\"Gram\"]*df1[\"Cal/gm\"])\n",
    "df = df.append(df1, ignore_index=True)\n",
    "\n",
    "df1 = df.copy()\n",
    "df1.drop([\"Gram\", \"Cal/100gms\"], axis=1, inplace=True)\n",
    "gram = np.random.randint(1, 100, 180*8)\n",
    "df1.insert(1, \"Gram\", gram)\n",
    "df1.insert(2, \"Cal/100gms\", df1[\"Gram\"]*df1[\"Cal/gm\"])\n",
    "df = df.append(df1, ignore_index=True)\n",
    "\n",
    "df1 = df.copy()\n",
    "df1.drop([\"Gram\", \"Cal/100gms\"], axis=1, inplace=True)\n",
    "gram = np.random.randint(1, 100, 180*16)\n",
    "df1.insert(1, \"Gram\", gram)\n",
    "df1.insert(2, \"Cal/100gms\", df1[\"Gram\"]*df1[\"Cal/gm\"])\n",
    "df = df.append(df1, ignore_index=True)\n",
    "\n",
    "df1 = df.copy()\n",
    "df1.drop([\"Gram\", \"Cal/100gms\"], axis=1, inplace=True)\n",
    "gram = np.random.randint(1, 100, 180*32)\n",
    "df1.insert(1, \"Gram\", gram)\n",
    "df1.insert(2, \"Cal/100gms\", df1[\"Gram\"]*df1[\"Cal/gm\"])\n",
    "df = df.append(df1, ignore_index=True)\n",
    "\n",
    "df1 = df.copy()\n",
    "df1.drop([\"Gram\", \"Cal/100gms\"], axis=1, inplace=True)\n",
    "gram = np.random.randint(1, 100, 180*64)\n",
    "df1.insert(1, \"Gram\", gram)\n",
    "df1.insert(2, \"Cal/100gms\", df1[\"Gram\"]*df1[\"Cal/gm\"])\n",
    "df = df.append(df1, ignore_index=True)\"\"\""
   ]
  },
  {
   "cell_type": "code",
   "execution_count": null,
   "id": "2bf0f911",
   "metadata": {},
   "outputs": [],
   "source": []
  }
 ],
 "metadata": {
  "kernelspec": {
   "display_name": "Python 3 (ipykernel)",
   "language": "python",
   "name": "python3"
  },
  "language_info": {
   "codemirror_mode": {
    "name": "ipython",
    "version": 3
   },
   "file_extension": ".py",
   "mimetype": "text/x-python",
   "name": "python",
   "nbconvert_exporter": "python",
   "pygments_lexer": "ipython3",
   "version": "3.9.13"
  }
 },
 "nbformat": 4,
 "nbformat_minor": 5
}
